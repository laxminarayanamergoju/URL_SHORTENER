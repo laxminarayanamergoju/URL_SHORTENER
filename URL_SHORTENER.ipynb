{
 "cells": [
  {
   "cell_type": "code",
   "execution_count": 2,
   "id": "e1463085",
   "metadata": {},
   "outputs": [],
   "source": [
    "#to short the url"
   ]
  },
  {
   "cell_type": "code",
   "execution_count": 4,
   "id": "fd7ac9a5",
   "metadata": {},
   "outputs": [],
   "source": [
    "import shortener"
   ]
  },
  {
   "cell_type": "code",
   "execution_count": 9,
   "id": "1dd87ffe",
   "metadata": {},
   "outputs": [],
   "source": [
    "def short_url(url):\n",
    "    shorter = pyshorteners.Shortener()\n",
    "    a = shorter.tinyurl.short(url)\n",
    "    return a\n",
    "\n"
   ]
  },
  {
   "cell_type": "code",
   "execution_count": 10,
   "id": "d46862bd",
   "metadata": {},
   "outputs": [
    {
     "ename": "NameError",
     "evalue": "name 'pyshorteners' is not defined",
     "output_type": "error",
     "traceback": [
      "\u001b[0;31m---------------------------------------------------------------------------\u001b[0m",
      "\u001b[0;31mNameError\u001b[0m                                 Traceback (most recent call last)",
      "Cell \u001b[0;32mIn[10], line 2\u001b[0m\n\u001b[1;32m      1\u001b[0m url_data \u001b[38;5;241m=\u001b[39m \u001b[38;5;124m\"\u001b[39m\u001b[38;5;124mhttps://www.youtube.com/@laxminarayanamergoju291\u001b[39m\u001b[38;5;124m\"\u001b[39m\n\u001b[0;32m----> 2\u001b[0m \u001b[38;5;28mprint\u001b[39m(\u001b[43mshort_url\u001b[49m\u001b[43m(\u001b[49m\u001b[43murl_data\u001b[49m\u001b[43m)\u001b[49m)\n",
      "Cell \u001b[0;32mIn[9], line 2\u001b[0m, in \u001b[0;36mshort_url\u001b[0;34m(url)\u001b[0m\n\u001b[1;32m      1\u001b[0m \u001b[38;5;28;01mdef\u001b[39;00m \u001b[38;5;21mshort_url\u001b[39m(url):\n\u001b[0;32m----> 2\u001b[0m     shorter \u001b[38;5;241m=\u001b[39m \u001b[43mpyshorteners\u001b[49m\u001b[38;5;241m.\u001b[39mShortener()\n\u001b[1;32m      3\u001b[0m     a \u001b[38;5;241m=\u001b[39m shorter\u001b[38;5;241m.\u001b[39mtinyurl\u001b[38;5;241m.\u001b[39mshort(url)\n\u001b[1;32m      4\u001b[0m     \u001b[38;5;28;01mreturn\u001b[39;00m a\n",
      "\u001b[0;31mNameError\u001b[0m: name 'pyshorteners' is not defined"
     ]
    }
   ],
   "source": [
    "url_data = \"https://www.youtube.com/@laxminarayanamergoju291\"\n",
    "print(short_url(url_data))"
   ]
  },
  {
   "cell_type": "code",
   "execution_count": null,
   "id": "ccd5aa79",
   "metadata": {},
   "outputs": [],
   "source": []
  }
 ],
 "metadata": {
  "kernelspec": {
   "display_name": "Python 3 (ipykernel)",
   "language": "python",
   "name": "python3"
  },
  "language_info": {
   "codemirror_mode": {
    "name": "ipython",
    "version": 3
   },
   "file_extension": ".py",
   "mimetype": "text/x-python",
   "name": "python",
   "nbconvert_exporter": "python",
   "pygments_lexer": "ipython3",
   "version": "3.10.8"
  }
 },
 "nbformat": 4,
 "nbformat_minor": 5
}
